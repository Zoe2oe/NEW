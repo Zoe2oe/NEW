{
 "cells": [
  {
   "cell_type": "code",
   "execution_count": null,
   "metadata": {},
   "outputs": [],
   "source": [
    "c = int(input('輸入 1 ( 攝氏 ) 或 2 ( 華氏 )：'))   # 使用變數 c 記錄攝氏還是華氏\n",
    "t = int(input('輸入溫度數值：'))                    # 使用變數 t 記錄要轉換的數值\n",
    "\n",
    "if c == 1:\n",
    "    print(f'攝氏 {t} 度等於華氏 {9/5*t+32} 度')       # 套用攝氏轉華氏公式\n",
    "else:\n",
    "    print(f'華氏 {t} 度等於攝氏 {(t-32)*5/9} 度')     # 套用華氏轉攝氏公式"
   ]
  }
 ],
 "metadata": {
  "language_info": {
   "name": "python"
  },
  "orig_nbformat": 4
 },
 "nbformat": 4,
 "nbformat_minor": 2
}
